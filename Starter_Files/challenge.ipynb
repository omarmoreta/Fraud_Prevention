{
 "cells": [
  {
   "cell_type": "markdown",
   "metadata": {},
   "source": [
    "# Challenge\n",
    "\n",
    "Another approach to identifying fraudulent transactions is to look for outliers in the data. Standard deviation or quartiles are often used to detect outliers. Using this starter notebook, code two Python functions:\n",
    "\n",
    "* One that uses standard deviation to identify anomalies for any cardholder.\n",
    "\n",
    "* Another that uses interquartile range to identify anomalies for any cardholder.\n",
    "\n",
    "## Identifying Outliers using Standard Deviation"
   ]
  },
  {
   "cell_type": "code",
   "execution_count": 1,
   "metadata": {},
   "outputs": [
    {
     "data": {
      "text/plain": [
       "True"
      ]
     },
     "execution_count": 1,
     "metadata": {},
     "output_type": "execute_result"
    }
   ],
   "source": [
    "# Initial imports\n",
    "import os\n",
    "import pandas as pd\n",
    "import numpy as np\n",
    "import random\n",
    "from dotenv import load_dotenv\n",
    "from sqlalchemy import create_engine\n",
    "\n",
    "# load postgres URI env variable\n",
    "load_dotenv()"
   ]
  },
  {
   "cell_type": "code",
   "execution_count": 2,
   "metadata": {},
   "outputs": [],
   "source": [
    "# set postgres database connection from dotenv\n",
    "postgres_URI = os.getenv(\"POSTGRES_URI\")\n",
    "\n",
    "# Create a connection to the database\n",
    "engine = create_engine(postgres_URI)"
   ]
  },
  {
   "cell_type": "code",
   "execution_count": 3,
   "metadata": {},
   "outputs": [
    {
     "data": {
      "text/html": [
       "<div>\n",
       "<style scoped>\n",
       "    .dataframe tbody tr th:only-of-type {\n",
       "        vertical-align: middle;\n",
       "    }\n",
       "\n",
       "    .dataframe tbody tr th {\n",
       "        vertical-align: top;\n",
       "    }\n",
       "\n",
       "    .dataframe thead th {\n",
       "        text-align: right;\n",
       "    }\n",
       "</style>\n",
       "<table border=\"1\" class=\"dataframe\">\n",
       "  <thead>\n",
       "    <tr style=\"text-align: right;\">\n",
       "      <th></th>\n",
       "      <th>transaction_date</th>\n",
       "      <th>transaction_amount</th>\n",
       "      <th>transaction_card_id</th>\n",
       "      <th>card_holder_id</th>\n",
       "    </tr>\n",
       "  </thead>\n",
       "  <tbody>\n",
       "    <tr>\n",
       "      <th>0</th>\n",
       "      <td>2018-01-01 21:35:10</td>\n",
       "      <td>6.22</td>\n",
       "      <td>3561954487988605</td>\n",
       "      <td>13</td>\n",
       "    </tr>\n",
       "    <tr>\n",
       "      <th>1</th>\n",
       "      <td>2018-01-01 21:43:12</td>\n",
       "      <td>3.83</td>\n",
       "      <td>5135837688671496</td>\n",
       "      <td>13</td>\n",
       "    </tr>\n",
       "    <tr>\n",
       "      <th>2</th>\n",
       "      <td>2018-01-01 22:41:21</td>\n",
       "      <td>9.61</td>\n",
       "      <td>213193946980303</td>\n",
       "      <td>10</td>\n",
       "    </tr>\n",
       "    <tr>\n",
       "      <th>3</th>\n",
       "      <td>2018-01-01 23:13:30</td>\n",
       "      <td>19.03</td>\n",
       "      <td>4263694062533017</td>\n",
       "      <td>4</td>\n",
       "    </tr>\n",
       "    <tr>\n",
       "      <th>4</th>\n",
       "      <td>2018-01-01 23:15:10</td>\n",
       "      <td>2.95</td>\n",
       "      <td>4498002758300</td>\n",
       "      <td>18</td>\n",
       "    </tr>\n",
       "    <tr>\n",
       "      <th>...</th>\n",
       "      <td>...</td>\n",
       "      <td>...</td>\n",
       "      <td>...</td>\n",
       "      <td>...</td>\n",
       "    </tr>\n",
       "    <tr>\n",
       "      <th>3495</th>\n",
       "      <td>2018-12-31 01:24:15</td>\n",
       "      <td>4.84</td>\n",
       "      <td>4723783028106084756</td>\n",
       "      <td>15</td>\n",
       "    </tr>\n",
       "    <tr>\n",
       "      <th>3496</th>\n",
       "      <td>2018-12-31 03:33:28</td>\n",
       "      <td>3.26</td>\n",
       "      <td>4165305432349489280</td>\n",
       "      <td>10</td>\n",
       "    </tr>\n",
       "    <tr>\n",
       "      <th>3497</th>\n",
       "      <td>2018-12-31 05:53:58</td>\n",
       "      <td>10.73</td>\n",
       "      <td>5361779664174555</td>\n",
       "      <td>19</td>\n",
       "    </tr>\n",
       "    <tr>\n",
       "      <th>3498</th>\n",
       "      <td>2018-12-31 08:22:17</td>\n",
       "      <td>11.87</td>\n",
       "      <td>4188164051171486</td>\n",
       "      <td>23</td>\n",
       "    </tr>\n",
       "    <tr>\n",
       "      <th>3499</th>\n",
       "      <td>2018-12-31 09:50:25</td>\n",
       "      <td>19.75</td>\n",
       "      <td>4723783028106084756</td>\n",
       "      <td>15</td>\n",
       "    </tr>\n",
       "  </tbody>\n",
       "</table>\n",
       "<p>3500 rows × 4 columns</p>\n",
       "</div>"
      ],
      "text/plain": [
       "        transaction_date  transaction_amount  transaction_card_id  \\\n",
       "0    2018-01-01 21:35:10                6.22     3561954487988605   \n",
       "1    2018-01-01 21:43:12                3.83     5135837688671496   \n",
       "2    2018-01-01 22:41:21                9.61      213193946980303   \n",
       "3    2018-01-01 23:13:30               19.03     4263694062533017   \n",
       "4    2018-01-01 23:15:10                2.95        4498002758300   \n",
       "...                  ...                 ...                  ...   \n",
       "3495 2018-12-31 01:24:15                4.84  4723783028106084756   \n",
       "3496 2018-12-31 03:33:28                3.26  4165305432349489280   \n",
       "3497 2018-12-31 05:53:58               10.73     5361779664174555   \n",
       "3498 2018-12-31 08:22:17               11.87     4188164051171486   \n",
       "3499 2018-12-31 09:50:25               19.75  4723783028106084756   \n",
       "\n",
       "      card_holder_id  \n",
       "0                 13  \n",
       "1                 13  \n",
       "2                 10  \n",
       "3                  4  \n",
       "4                 18  \n",
       "...              ...  \n",
       "3495              15  \n",
       "3496              10  \n",
       "3497              19  \n",
       "3498              23  \n",
       "3499              15  \n",
       "\n",
       "[3500 rows x 4 columns]"
      ]
     },
     "execution_count": 3,
     "metadata": {},
     "output_type": "execute_result"
    }
   ],
   "source": [
    "# query db to join the transaction and credit_card tables\n",
    "query = \"\"\"\n",
    "    SELECT transaction_date, transaction_amount, transaction_card_id, card_holder_id \n",
    "    FROM transaction\n",
    "    JOIN credit_card \n",
    "    ON credit_card.card_number_id = transaction_card_id\n",
    "\"\"\"\n",
    "query_sd = pd.read_sql(query, engine)\n",
    "query_sd"
   ]
  },
  {
   "cell_type": "code",
   "execution_count": 17,
   "metadata": {},
   "outputs": [],
   "source": [
    "# Write function that locates outliers using standard deviation\n",
    "outliers = []\n",
    "def locate_outliers(transactions):\n",
    "    std = np.std(transactions)\n",
    "    mean = np.mean(transactions)\n",
    "    # list comprehensions to find outliers: list = [ expression for element in iterable optional condition ]\n",
    "    # outliers = [x for x in transactions if (x > mean - (2 * std))]\n",
    "    outliers = [x for x in outliers if not (x < mean + (2 * std))]\n",
    "    return outliers"
   ]
  },
  {
   "cell_type": "code",
   "execution_count": 18,
   "metadata": {},
   "outputs": [
    {
     "ename": "UnboundLocalError",
     "evalue": "local variable 'outliers' referenced before assignment",
     "output_type": "error",
     "traceback": [
      "\u001b[1;31m---------------------------------------------------------------------------\u001b[0m",
      "\u001b[1;31mUnboundLocalError\u001b[0m                         Traceback (most recent call last)",
      "\u001b[1;32m~\\AppData\\Local\\Temp\\ipykernel_1996\\4251970897.py\u001b[0m in \u001b[0;36m<module>\u001b[1;34m\u001b[0m\n\u001b[0;32m      6\u001b[0m \u001b[0moutliers_three\u001b[0m \u001b[1;33m=\u001b[0m \u001b[0mquery_sd\u001b[0m\u001b[1;33m.\u001b[0m\u001b[0mloc\u001b[0m\u001b[1;33m[\u001b[0m\u001b[0mquery_sd\u001b[0m\u001b[1;33m[\u001b[0m\u001b[1;34m\"card_holder_id\"\u001b[0m\u001b[1;33m]\u001b[0m \u001b[1;33m==\u001b[0m \u001b[0mrandom\u001b[0m\u001b[1;33m[\u001b[0m\u001b[1;36m2\u001b[0m\u001b[1;33m]\u001b[0m\u001b[1;33m,\u001b[0m \u001b[1;34m\"transaction_amount\"\u001b[0m\u001b[1;33m]\u001b[0m\u001b[1;33m\u001b[0m\u001b[1;33m\u001b[0m\u001b[0m\n\u001b[0;32m      7\u001b[0m \u001b[1;33m\u001b[0m\u001b[0m\n\u001b[1;32m----> 8\u001b[1;33m \u001b[0mlocate_outliers\u001b[0m\u001b[1;33m(\u001b[0m\u001b[0moutliers_one\u001b[0m\u001b[1;33m)\u001b[0m\u001b[1;33m\u001b[0m\u001b[1;33m\u001b[0m\u001b[0m\n\u001b[0m",
      "\u001b[1;32m~\\AppData\\Local\\Temp\\ipykernel_1996\\1025057084.py\u001b[0m in \u001b[0;36mlocate_outliers\u001b[1;34m(transactions)\u001b[0m\n\u001b[0;32m      6\u001b[0m     \u001b[1;31m# list comprehensions to find outliers: list = [ expression for element in iterable optional condition ]\u001b[0m\u001b[1;33m\u001b[0m\u001b[1;33m\u001b[0m\u001b[1;33m\u001b[0m\u001b[0m\n\u001b[0;32m      7\u001b[0m     \u001b[1;31m# outliers = [x for x in transactions if (x > mean - (2 * std))]\u001b[0m\u001b[1;33m\u001b[0m\u001b[1;33m\u001b[0m\u001b[1;33m\u001b[0m\u001b[0m\n\u001b[1;32m----> 8\u001b[1;33m     \u001b[0moutliers\u001b[0m \u001b[1;33m=\u001b[0m \u001b[1;33m[\u001b[0m\u001b[0mx\u001b[0m \u001b[1;32mfor\u001b[0m \u001b[0mx\u001b[0m \u001b[1;32min\u001b[0m \u001b[0moutliers\u001b[0m \u001b[1;32mif\u001b[0m \u001b[1;32mnot\u001b[0m \u001b[1;33m(\u001b[0m\u001b[0mx\u001b[0m \u001b[1;33m<\u001b[0m \u001b[0mmean\u001b[0m \u001b[1;33m+\u001b[0m \u001b[1;33m(\u001b[0m\u001b[1;36m2\u001b[0m \u001b[1;33m*\u001b[0m \u001b[0mstd\u001b[0m\u001b[1;33m)\u001b[0m\u001b[1;33m)\u001b[0m\u001b[1;33m]\u001b[0m\u001b[1;33m\u001b[0m\u001b[1;33m\u001b[0m\u001b[0m\n\u001b[0m\u001b[0;32m      9\u001b[0m     \u001b[1;32mreturn\u001b[0m \u001b[0moutliers\u001b[0m\u001b[1;33m\u001b[0m\u001b[1;33m\u001b[0m\u001b[0m\n",
      "\u001b[1;31mUnboundLocalError\u001b[0m: local variable 'outliers' referenced before assignment"
     ]
    }
   ],
   "source": [
    "# Find anomalous transactions for 3 random card holders\n",
    "random = np.random.randint(1,25,3)\n",
    "\n",
    "outliers_one = query_sd.loc[query_sd[\"card_holder_id\"] == random[0], \"transaction_amount\"]\n",
    "outliers_two = query_sd.loc[query_sd[\"card_holder_id\"] == random[1], \"transaction_amount\"]\n",
    "outliers_three = query_sd.loc[query_sd[\"card_holder_id\"] == random[2], \"transaction_amount\"]\n",
    "\n",
    "locate_outliers(outliers_one)"
   ]
  },
  {
   "cell_type": "code",
   "execution_count": 6,
   "metadata": {},
   "outputs": [
    {
     "data": {
      "text/plain": [
       "[1119.0, 1159.0, 1160.0, 1053.0, 1054.0]"
      ]
     },
     "execution_count": 6,
     "metadata": {},
     "output_type": "execute_result"
    }
   ],
   "source": [
    "locate_outliers(outliers_two)"
   ]
  },
  {
   "cell_type": "code",
   "execution_count": 7,
   "metadata": {},
   "outputs": [
    {
     "data": {
      "text/plain": [
       "[1691.0,\n",
       " 1302.0,\n",
       " 1789.9999999999998,\n",
       " 1017.0,\n",
       " 1056.0,\n",
       " 1060.0,\n",
       " 1660.0000000000002,\n",
       " 1894.0000000000002,\n",
       " 1033.0]"
      ]
     },
     "execution_count": 7,
     "metadata": {},
     "output_type": "execute_result"
    }
   ],
   "source": [
    "locate_outliers(outliers_three)"
   ]
  },
  {
   "cell_type": "markdown",
   "metadata": {},
   "source": [
    "## Identifying Outliers Using Interquartile Range"
   ]
  },
  {
   "cell_type": "code",
   "execution_count": 8,
   "metadata": {},
   "outputs": [],
   "source": [
    "# Write a function that locates outliers using interquartile range\n",
    "outliers = []\n",
    "def locate_outliers_IQR(data):\n",
    "    Q1 = np.percentile(data, 25, interpolation = 'midpoint') \n",
    "    Q2 = np.percentile(data, 50, interpolation = 'midpoint') \n",
    "    Q3 = np.percentile(data, 75, interpolation = 'midpoint')\n",
    "    IQR = Q3 - Q1 \n",
    "    low_lim = Q1 - 1.5 * IQR\n",
    "    up_lim = Q3 + 1.5 * IQR\n",
    "    for x in data:\n",
    "        if ((x> up_lim) or (x<low_lim)):\n",
    "            outliers.append(x)\n",
    "    return outliers"
   ]
  },
  {
   "cell_type": "code",
   "execution_count": 13,
   "metadata": {},
   "outputs": [],
   "source": [
    "# Find anomalous transactions for 3 random card holders\n",
    "random = np.random.randint(1,25,3)"
   ]
  },
  {
   "cell_type": "code",
   "execution_count": 14,
   "metadata": {},
   "outputs": [
    {
     "data": {
      "text/plain": [
       "[117.0,\n",
       " 121.0,\n",
       " 175.0,\n",
       " 333.0,\n",
       " 458.0,\n",
       " 974.0,\n",
       " 1077.0,\n",
       " 1154.0,\n",
       " 1176.0,\n",
       " 1769.0000000000002,\n",
       " 1814.0,\n",
       " 1839.0,\n",
       " 389.0,\n",
       " 1029.0,\n",
       " 1108.0,\n",
       " 1145.0,\n",
       " 1279.0,\n",
       " 1379.0,\n",
       " 1398.0,\n",
       " 1855.9999999999998,\n",
       " 2001.0000000000002,\n",
       " 2108.0,\n",
       " 229.0,\n",
       " 1131.0,\n",
       " 1430.0,\n",
       " 1617.0000000000002,\n",
       " 1203.0,\n",
       " 1103.0,\n",
       " 89.0,\n",
       " 1803.0,\n",
       " 178.0,\n",
       " 393.0,\n",
       " 1911.0,\n",
       " 1014.0,\n",
       " 1634.0]"
      ]
     },
     "execution_count": 14,
     "metadata": {},
     "output_type": "execute_result"
    }
   ],
   "source": [
    "outliers_1 = query_sd.loc[query_sd[\"card_holder_id\"] == random[0], \"transaction_amount\"]\n",
    "outliers_2 = np.sort(outliers_1)\n",
    "\n",
    "outliers_2 = query_sd.loc[query_sd[\"card_holder_id\"] == random[1], \"transaction_amount\"]\n",
    "outliers_2 = np.sort(outliers_2)\n",
    "\n",
    "outliers_3 = query_sd.loc[query_sd[\"card_holder_id\"] == random[2], \"transaction_amount\"]\n",
    "outliers_3 = np.sort(outliers_3)\n",
    "\n",
    "locate_outliers_IQR(outliers_1)"
   ]
  },
  {
   "cell_type": "code",
   "execution_count": 15,
   "metadata": {},
   "outputs": [
    {
     "data": {
      "text/plain": [
       "[117.0,\n",
       " 121.0,\n",
       " 175.0,\n",
       " 333.0,\n",
       " 458.0,\n",
       " 974.0,\n",
       " 1077.0,\n",
       " 1154.0,\n",
       " 1176.0,\n",
       " 1769.0000000000002,\n",
       " 1814.0,\n",
       " 1839.0,\n",
       " 389.0,\n",
       " 1029.0,\n",
       " 1108.0,\n",
       " 1145.0,\n",
       " 1279.0,\n",
       " 1379.0,\n",
       " 1398.0,\n",
       " 1855.9999999999998,\n",
       " 2001.0000000000002,\n",
       " 2108.0,\n",
       " 229.0,\n",
       " 1131.0,\n",
       " 1430.0,\n",
       " 1617.0000000000002,\n",
       " 1203.0,\n",
       " 1103.0,\n",
       " 89.0,\n",
       " 1803.0,\n",
       " 178.0,\n",
       " 393.0,\n",
       " 1911.0,\n",
       " 1014.0,\n",
       " 1634.0,\n",
       " 258.0,\n",
       " 291.0,\n",
       " 466.0,\n",
       " 525.0,\n",
       " 1011.0,\n",
       " 1035.0,\n",
       " 1301.0,\n",
       " 1901.0000000000002]"
      ]
     },
     "execution_count": 15,
     "metadata": {},
     "output_type": "execute_result"
    }
   ],
   "source": [
    "locate_outliers_IQR(outliers_2)"
   ]
  },
  {
   "cell_type": "code",
   "execution_count": 16,
   "metadata": {},
   "outputs": [
    {
     "data": {
      "text/plain": [
       "[117.0,\n",
       " 121.0,\n",
       " 175.0,\n",
       " 333.0,\n",
       " 458.0,\n",
       " 974.0,\n",
       " 1077.0,\n",
       " 1154.0,\n",
       " 1176.0,\n",
       " 1769.0000000000002,\n",
       " 1814.0,\n",
       " 1839.0,\n",
       " 389.0,\n",
       " 1029.0,\n",
       " 1108.0,\n",
       " 1145.0,\n",
       " 1279.0,\n",
       " 1379.0,\n",
       " 1398.0,\n",
       " 1855.9999999999998,\n",
       " 2001.0000000000002,\n",
       " 2108.0,\n",
       " 229.0,\n",
       " 1131.0,\n",
       " 1430.0,\n",
       " 1617.0000000000002,\n",
       " 1203.0,\n",
       " 1103.0,\n",
       " 89.0,\n",
       " 1803.0,\n",
       " 178.0,\n",
       " 393.0,\n",
       " 1911.0,\n",
       " 1014.0,\n",
       " 1634.0,\n",
       " 258.0,\n",
       " 291.0,\n",
       " 466.0,\n",
       " 525.0,\n",
       " 1011.0,\n",
       " 1035.0,\n",
       " 1301.0,\n",
       " 1901.0000000000002]"
      ]
     },
     "execution_count": 16,
     "metadata": {},
     "output_type": "execute_result"
    }
   ],
   "source": [
    "locate_outliers_IQR(outliers_3)"
   ]
  },
  {
   "cell_type": "code",
   "execution_count": null,
   "metadata": {},
   "outputs": [],
   "source": []
  }
 ],
 "metadata": {
  "file_extension": ".py",
  "kernelspec": {
   "display_name": "Python 3 (ipykernel)",
   "language": "python",
   "name": "python3"
  },
  "language_info": {
   "codemirror_mode": {
    "name": "ipython",
    "version": 3
   },
   "file_extension": ".py",
   "mimetype": "text/x-python",
   "name": "python",
   "nbconvert_exporter": "python",
   "pygments_lexer": "ipython3",
   "version": "3.7.13"
  },
  "mimetype": "text/x-python",
  "name": "python",
  "npconvert_exporter": "python",
  "pygments_lexer": "ipython3",
  "version": 3
 },
 "nbformat": 4,
 "nbformat_minor": 4
}
