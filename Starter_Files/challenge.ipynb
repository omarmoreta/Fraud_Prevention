{
 "cells": [
  {
   "cell_type": "markdown",
   "metadata": {},
   "source": [
    "# Challenge\n",
    "\n",
    "Another approach to identifying fraudulent transactions is to look for outliers in the data. Standard deviation or quartiles are often used to detect outliers. Using this starter notebook, code two Python functions:\n",
    "\n",
    "* One that uses standard deviation to identify anomalies for any cardholder.\n",
    "\n",
    "* Another that uses interquartile range to identify anomalies for any cardholder.\n",
    "\n",
    "## Identifying Outliers using Standard Deviation"
   ]
  },
  {
   "cell_type": "code",
   "execution_count": 1,
   "metadata": {},
   "outputs": [
    {
     "data": {
      "text/plain": [
       "True"
      ]
     },
     "execution_count": 1,
     "metadata": {},
     "output_type": "execute_result"
    }
   ],
   "source": [
    "# Initial imports\n",
    "import os\n",
    "import pandas as pd\n",
    "import numpy as np\n",
    "import random\n",
    "from dotenv import load_dotenv\n",
    "from sqlalchemy import create_engine\n",
    "\n",
    "# load postgres URI env variable\n",
    "load_dotenv()"
   ]
  },
  {
   "cell_type": "code",
   "execution_count": 2,
   "metadata": {},
   "outputs": [],
   "source": [
    "# set postgres database connection from dotenv\n",
    "postgres_URI = os.getenv(\"POSTGRES_URI\")\n",
    "\n",
    "# Create a connection to the database\n",
    "engine = create_engine(postgres_URI)"
   ]
  },
  {
   "cell_type": "code",
   "execution_count": 3,
   "metadata": {},
   "outputs": [
    {
     "data": {
      "text/html": [
       "<div>\n",
       "<style scoped>\n",
       "    .dataframe tbody tr th:only-of-type {\n",
       "        vertical-align: middle;\n",
       "    }\n",
       "\n",
       "    .dataframe tbody tr th {\n",
       "        vertical-align: top;\n",
       "    }\n",
       "\n",
       "    .dataframe thead th {\n",
       "        text-align: right;\n",
       "    }\n",
       "</style>\n",
       "<table border=\"1\" class=\"dataframe\">\n",
       "  <thead>\n",
       "    <tr style=\"text-align: right;\">\n",
       "      <th></th>\n",
       "      <th>transaction_date</th>\n",
       "      <th>transaction_amount</th>\n",
       "      <th>transaction_card_id</th>\n",
       "      <th>card_holder_id</th>\n",
       "    </tr>\n",
       "  </thead>\n",
       "  <tbody>\n",
       "    <tr>\n",
       "      <th>0</th>\n",
       "      <td>2018-01-01 21:35:10</td>\n",
       "      <td>6.22</td>\n",
       "      <td>3561954487988605</td>\n",
       "      <td>13</td>\n",
       "    </tr>\n",
       "    <tr>\n",
       "      <th>1</th>\n",
       "      <td>2018-01-01 21:43:12</td>\n",
       "      <td>3.83</td>\n",
       "      <td>5135837688671496</td>\n",
       "      <td>13</td>\n",
       "    </tr>\n",
       "    <tr>\n",
       "      <th>2</th>\n",
       "      <td>2018-01-01 22:41:21</td>\n",
       "      <td>9.61</td>\n",
       "      <td>213193946980303</td>\n",
       "      <td>10</td>\n",
       "    </tr>\n",
       "    <tr>\n",
       "      <th>3</th>\n",
       "      <td>2018-01-01 23:13:30</td>\n",
       "      <td>19.03</td>\n",
       "      <td>4263694062533017</td>\n",
       "      <td>4</td>\n",
       "    </tr>\n",
       "    <tr>\n",
       "      <th>4</th>\n",
       "      <td>2018-01-01 23:15:10</td>\n",
       "      <td>2.95</td>\n",
       "      <td>4498002758300</td>\n",
       "      <td>18</td>\n",
       "    </tr>\n",
       "    <tr>\n",
       "      <th>...</th>\n",
       "      <td>...</td>\n",
       "      <td>...</td>\n",
       "      <td>...</td>\n",
       "      <td>...</td>\n",
       "    </tr>\n",
       "    <tr>\n",
       "      <th>3495</th>\n",
       "      <td>2018-12-31 01:24:15</td>\n",
       "      <td>4.84</td>\n",
       "      <td>4723783028106084756</td>\n",
       "      <td>15</td>\n",
       "    </tr>\n",
       "    <tr>\n",
       "      <th>3496</th>\n",
       "      <td>2018-12-31 03:33:28</td>\n",
       "      <td>3.26</td>\n",
       "      <td>4165305432349489280</td>\n",
       "      <td>10</td>\n",
       "    </tr>\n",
       "    <tr>\n",
       "      <th>3497</th>\n",
       "      <td>2018-12-31 05:53:58</td>\n",
       "      <td>10.73</td>\n",
       "      <td>5361779664174555</td>\n",
       "      <td>19</td>\n",
       "    </tr>\n",
       "    <tr>\n",
       "      <th>3498</th>\n",
       "      <td>2018-12-31 08:22:17</td>\n",
       "      <td>11.87</td>\n",
       "      <td>4188164051171486</td>\n",
       "      <td>23</td>\n",
       "    </tr>\n",
       "    <tr>\n",
       "      <th>3499</th>\n",
       "      <td>2018-12-31 09:50:25</td>\n",
       "      <td>19.75</td>\n",
       "      <td>4723783028106084756</td>\n",
       "      <td>15</td>\n",
       "    </tr>\n",
       "  </tbody>\n",
       "</table>\n",
       "<p>3500 rows × 4 columns</p>\n",
       "</div>"
      ],
      "text/plain": [
       "        transaction_date  transaction_amount  transaction_card_id  \\\n",
       "0    2018-01-01 21:35:10                6.22     3561954487988605   \n",
       "1    2018-01-01 21:43:12                3.83     5135837688671496   \n",
       "2    2018-01-01 22:41:21                9.61      213193946980303   \n",
       "3    2018-01-01 23:13:30               19.03     4263694062533017   \n",
       "4    2018-01-01 23:15:10                2.95        4498002758300   \n",
       "...                  ...                 ...                  ...   \n",
       "3495 2018-12-31 01:24:15                4.84  4723783028106084756   \n",
       "3496 2018-12-31 03:33:28                3.26  4165305432349489280   \n",
       "3497 2018-12-31 05:53:58               10.73     5361779664174555   \n",
       "3498 2018-12-31 08:22:17               11.87     4188164051171486   \n",
       "3499 2018-12-31 09:50:25               19.75  4723783028106084756   \n",
       "\n",
       "      card_holder_id  \n",
       "0                 13  \n",
       "1                 13  \n",
       "2                 10  \n",
       "3                  4  \n",
       "4                 18  \n",
       "...              ...  \n",
       "3495              15  \n",
       "3496              10  \n",
       "3497              19  \n",
       "3498              23  \n",
       "3499              15  \n",
       "\n",
       "[3500 rows x 4 columns]"
      ]
     },
     "execution_count": 3,
     "metadata": {},
     "output_type": "execute_result"
    }
   ],
   "source": [
    "# query db to join the transaction and credit_card tables\n",
    "query = \"\"\"\n",
    "    SELECT transaction_date, transaction_amount, transaction_card_id, card_holder_id \n",
    "    FROM transaction\n",
    "    JOIN credit_card \n",
    "    ON credit_card.card_number_id = transaction_card_id\n",
    "\"\"\"\n",
    "query_sd = pd.read_sql(query, engine)\n",
    "query_sd"
   ]
  },
  {
   "cell_type": "code",
   "execution_count": 4,
   "metadata": {},
   "outputs": [],
   "source": [
    "# Write function that locates outliers using standard deviation\n",
    "outliers = []\n",
    "def locate_outliers(transactions):\n",
    "    std = np.std(transactions)\n",
    "    mean = np.mean(transactions)\n",
    "    # list comprehensions to find outliers: list = [ expression for element in iterable optional condition ]\n",
    "    outliers = [x for x in transactions if (x > mean - (2 * std))]\n",
    "    outliers = [x for x in outliers if not (x < mean + (2 * std))]\n",
    "    return outliers"
   ]
  },
  {
   "cell_type": "code",
   "execution_count": 5,
   "metadata": {},
   "outputs": [
    {
     "data": {
      "text/plain": [
       "[1011.0, 525.0, 1901.0000000000002, 1301.0, 1035.0]"
      ]
     },
     "execution_count": 5,
     "metadata": {},
     "output_type": "execute_result"
    }
   ],
   "source": [
    "# Find anomalous transactions for 3 random card holders\n",
    "random = np.random.randint(1,25,3)\n",
    "\n",
    "outliers_one = query_sd.loc[query_sd[\"card_holder_id\"] == random[0], \"transaction_amount\"]\n",
    "outliers_two = query_sd.loc[query_sd[\"card_holder_id\"] == random[1], \"transaction_amount\"]\n",
    "outliers_three = query_sd.loc[query_sd[\"card_holder_id\"] == random[2], \"transaction_amount\"]\n",
    "\n",
    "locate_outliers(outliers_one)"
   ]
  },
  {
   "cell_type": "code",
   "execution_count": 6,
   "metadata": {},
   "outputs": [
    {
     "data": {
      "text/plain": [
       "[1011.0, 525.0, 1901.0000000000002, 1301.0, 1035.0]"
      ]
     },
     "execution_count": 6,
     "metadata": {},
     "output_type": "execute_result"
    }
   ],
   "source": [
    "locate_outliers(outliers_two)"
   ]
  },
  {
   "cell_type": "code",
   "execution_count": 7,
   "metadata": {},
   "outputs": [
    {
     "data": {
      "text/plain": [
       "[20.71, 20.29, 21.61]"
      ]
     },
     "execution_count": 7,
     "metadata": {},
     "output_type": "execute_result"
    }
   ],
   "source": [
    "locate_outliers(outliers_three)"
   ]
  },
  {
   "cell_type": "markdown",
   "metadata": {},
   "source": [
    "## Identifying Outliers Using Interquartile Range"
   ]
  },
  {
   "cell_type": "code",
   "execution_count": 8,
   "metadata": {},
   "outputs": [],
   "source": [
    "# Write a function that locates outliers using interquartile range\n",
    "outliers = []\n",
    "def locate_outliers_IQR(data):\n",
    "    Q1 = np.percentile(data, 25, interpolation = 'midpoint') \n",
    "    Q2 = np.percentile(data, 50, interpolation = 'midpoint') \n",
    "    Q3 = np.percentile(data, 75, interpolation = 'midpoint')\n",
    "    IQR = Q3 - Q1 \n",
    "    low_lim = Q1 - 1.5 * IQR\n",
    "    up_lim = Q3 + 1.5 * IQR\n",
    "    for x in data:\n",
    "        if ((x> up_lim) or (x<low_lim)):\n",
    "            outliers.append(x)\n",
    "    return outliers"
   ]
  },
  {
   "cell_type": "code",
   "execution_count": 9,
   "metadata": {},
   "outputs": [],
   "source": [
    "# Find anomalous transactions for 3 random card holders\n",
    "random = np.random.randint(1,25,3)"
   ]
  },
  {
   "cell_type": "code",
   "execution_count": 10,
   "metadata": {},
   "outputs": [
    {
     "data": {
      "text/plain": [
       "[1691.0,\n",
       " 283.0,\n",
       " 1302.0,\n",
       " 1789.9999999999998,\n",
       " 1017.0,\n",
       " 1056.0,\n",
       " 1060.0,\n",
       " 484.0,\n",
       " 267.0,\n",
       " 1660.0000000000002,\n",
       " 1894.0000000000002,\n",
       " 1033.0]"
      ]
     },
     "execution_count": 10,
     "metadata": {},
     "output_type": "execute_result"
    }
   ],
   "source": [
    "outliers_1 = query_sd.loc[query_sd[\"card_holder_id\"] == random[0], \"transaction_amount\"]\n",
    "outliers_2 = np.sort(outliers_1)\n",
    "\n",
    "outliers_2 = query_sd.loc[query_sd[\"card_holder_id\"] == random[1], \"transaction_amount\"]\n",
    "outliers_2 = np.sort(outliers_2)\n",
    "\n",
    "outliers_3 = query_sd.loc[query_sd[\"card_holder_id\"] == random[2], \"transaction_amount\"]\n",
    "outliers_3 = np.sort(outliers_3)\n",
    "\n",
    "locate_outliers_IQR(outliers_1)"
   ]
  },
  {
   "cell_type": "code",
   "execution_count": 11,
   "metadata": {},
   "outputs": [
    {
     "data": {
      "text/plain": [
       "[1691.0,\n",
       " 283.0,\n",
       " 1302.0,\n",
       " 1789.9999999999998,\n",
       " 1017.0,\n",
       " 1056.0,\n",
       " 1060.0,\n",
       " 484.0,\n",
       " 267.0,\n",
       " 1660.0000000000002,\n",
       " 1894.0000000000002,\n",
       " 1033.0]"
      ]
     },
     "execution_count": 11,
     "metadata": {},
     "output_type": "execute_result"
    }
   ],
   "source": [
    "locate_outliers_IQR(outliers_2)"
   ]
  },
  {
   "cell_type": "code",
   "execution_count": 12,
   "metadata": {},
   "outputs": [
    {
     "data": {
      "text/plain": [
       "[1691.0,\n",
       " 283.0,\n",
       " 1302.0,\n",
       " 1789.9999999999998,\n",
       " 1017.0,\n",
       " 1056.0,\n",
       " 1060.0,\n",
       " 484.0,\n",
       " 267.0,\n",
       " 1660.0000000000002,\n",
       " 1894.0000000000002,\n",
       " 1033.0,\n",
       " 233.0,\n",
       " 748.0,\n",
       " 852.0,\n",
       " 1031.0,\n",
       " 1075.0,\n",
       " 1102.0,\n",
       " 1108.0,\n",
       " 1123.0,\n",
       " 1530.0,\n",
       " 1592.0,\n",
       " 1678.0,\n",
       " 1802.0]"
      ]
     },
     "execution_count": 12,
     "metadata": {},
     "output_type": "execute_result"
    }
   ],
   "source": [
    "locate_outliers_IQR(outliers_3)"
   ]
  }
 ],
 "metadata": {
  "file_extension": ".py",
  "kernelspec": {
   "display_name": "Python 3 (ipykernel)",
   "language": "python",
   "name": "python3"
  },
  "language_info": {
   "codemirror_mode": {
    "name": "ipython",
    "version": 3
   },
   "file_extension": ".py",
   "mimetype": "text/x-python",
   "name": "python",
   "nbconvert_exporter": "python",
   "pygments_lexer": "ipython3",
   "version": "3.7.13"
  },
  "mimetype": "text/x-python",
  "name": "python",
  "npconvert_exporter": "python",
  "pygments_lexer": "ipython3",
  "version": 3
 },
 "nbformat": 4,
 "nbformat_minor": 4
}
